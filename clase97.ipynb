{
  "nbformat": 4,
  "nbformat_minor": 0,
  "metadata": {
    "colab": {
      "provenance": [],
      "authorship_tag": "ABX9TyNS/gDLF0QoEYK9rt7FeuHa",
      "include_colab_link": true
    },
    "kernelspec": {
      "name": "python3",
      "display_name": "Python 3"
    },
    "language_info": {
      "name": "python"
    }
  },
  "cells": [
    {
      "cell_type": "markdown",
      "metadata": {
        "id": "view-in-github",
        "colab_type": "text"
      },
      "source": [
        "<a href=\"https://colab.research.google.com/github/les3112/clase45.1/blob/main/clase97.ipynb\" target=\"_parent\"><img src=\"https://colab.research.google.com/assets/colab-badge.svg\" alt=\"Open In Colab\"/></a>"
      ]
    },
    {
      "cell_type": "markdown",
      "source": [
        "CLASE NUMERO 97"
      ],
      "metadata": {
        "id": "b59dlvQ1IQ7w"
      }
    },
    {
      "cell_type": "markdown",
      "source": [
        "Definiendo variables"
      ],
      "metadata": {
        "id": "sWXIAW20JK_C"
      }
    },
    {
      "cell_type": "code",
      "source": [
        "from re import X\n",
        "num=5.5\n",
        "X = \"Diego\""
      ],
      "metadata": {
        "id": "7xfnn_m7JGxC"
      },
      "execution_count": 11,
      "outputs": []
    },
    {
      "cell_type": "markdown",
      "source": [
        "concatenar"
      ],
      "metadata": {
        "id": "HTezK6a-JSfx"
      }
    },
    {
      "cell_type": "code",
      "source": [
        "print(\"El valor de num1 es:\", num)"
      ],
      "metadata": {
        "colab": {
          "base_uri": "https://localhost:8080/"
        },
        "id": "QBBvggnOJWGN",
        "outputId": "1f8755f3-e10d-47f1-eaec-24fa50b38aa1"
      },
      "execution_count": 5,
      "outputs": [
        {
          "output_type": "stream",
          "name": "stdout",
          "text": [
            "El valor de num1 es: 1\n"
          ]
        }
      ]
    },
    {
      "cell_type": "markdown",
      "source": [
        "Verificando el tipo de variable"
      ],
      "metadata": {
        "id": "6koK11y3JjUZ"
      }
    },
    {
      "cell_type": "code",
      "source": [
        "type(num)\n"
      ],
      "metadata": {
        "colab": {
          "base_uri": "https://localhost:8080/"
        },
        "id": "kz4NHIogJmsI",
        "outputId": "2a495646-8f9a-4347-9be4-cb5cae394847"
      },
      "execution_count": 12,
      "outputs": [
        {
          "output_type": "execute_result",
          "data": {
            "text/plain": [
              "float"
            ]
          },
          "metadata": {},
          "execution_count": 12
        }
      ]
    },
    {
      "cell_type": "code",
      "source": [
        "print(\"Hola, Diego\")\n"
      ],
      "metadata": {
        "colab": {
          "base_uri": "https://localhost:8080/"
        },
        "id": "J8IrYEnsITPF",
        "outputId": "3af971a9-7a12-4b6b-d1e9-d7c70cc56370"
      },
      "execution_count": 3,
      "outputs": [
        {
          "output_type": "stream",
          "name": "stdout",
          "text": [
            "Hola, Diego\n"
          ]
        }
      ]
    },
    {
      "cell_type": "markdown",
      "source": [
        "DEFINIR FUNCIONES"
      ],
      "metadata": {
        "id": "Ix32_ZKYKg7O"
      }
    },
    {
      "cell_type": "code",
      "source": [
        "celsius=37\n",
        "\n",
        "#convertir a farenheit\n",
        "farenheit=(celsius * (9/5)) + 32\n",
        "\n",
        "print(farenheit)"
      ],
      "metadata": {
        "colab": {
          "base_uri": "https://localhost:8080/"
        },
        "id": "OBRthpLiKjpC",
        "outputId": "1420552d-5ed3-42be-d29f-1743fbe9d577"
      },
      "execution_count": 20,
      "outputs": [
        {
          "output_type": "stream",
          "name": "stdout",
          "text": [
            "98.60000000000001\n"
          ]
        }
      ]
    },
    {
      "cell_type": "code",
      "source": [
        "def convert_to_faren(celsius):\n",
        "  farenheit=(celsius * (9/5)) + 32\n",
        "  return farenheit"
      ],
      "metadata": {
        "id": "tFVotuLdL0lo"
      },
      "execution_count": 21,
      "outputs": []
    },
    {
      "cell_type": "code",
      "source": [
        "convert_to_faren(37)"
      ],
      "metadata": {
        "colab": {
          "base_uri": "https://localhost:8080/"
        },
        "id": "wx56BEJoMLuT",
        "outputId": "9b32d5da-666a-49eb-c1e3-c83230e103f0"
      },
      "execution_count": 22,
      "outputs": [
        {
          "output_type": "execute_result",
          "data": {
            "text/plain": [
              "98.60000000000001"
            ]
          },
          "metadata": {},
          "execution_count": 22
        }
      ]
    },
    {
      "cell_type": "code",
      "source": [
        "celsius=input()"
      ],
      "metadata": {
        "colab": {
          "base_uri": "https://localhost:8080/"
        },
        "id": "noYnkGAeMt_h",
        "outputId": "75d76191-c606-4928-c5b1-15f67b55bc96"
      },
      "execution_count": 25,
      "outputs": [
        {
          "name": "stdout",
          "output_type": "stream",
          "text": [
            "37\n"
          ]
        }
      ]
    },
    {
      "cell_type": "code",
      "source": [
        "print(celsius)\n",
        "type(celsius)"
      ],
      "metadata": {
        "colab": {
          "base_uri": "https://localhost:8080/"
        },
        "id": "20BZV7fbM2zd",
        "outputId": "29e91447-0022-4637-80db-b07f2c43af2f"
      },
      "execution_count": 27,
      "outputs": [
        {
          "output_type": "stream",
          "name": "stdout",
          "text": [
            "37\n"
          ]
        },
        {
          "output_type": "execute_result",
          "data": {
            "text/plain": [
              "str"
            ]
          },
          "metadata": {},
          "execution_count": 27
        }
      ]
    },
    {
      "cell_type": "code",
      "source": [
        "convert_to_faren(float(celsius))"
      ],
      "metadata": {
        "colab": {
          "base_uri": "https://localhost:8080/"
        },
        "id": "BtppbHgvNYJJ",
        "outputId": "f17080a7-a85c-4f9e-9fa8-dbb8d35aae6c"
      },
      "execution_count": 28,
      "outputs": [
        {
          "output_type": "execute_result",
          "data": {
            "text/plain": [
              "98.60000000000001"
            ]
          },
          "metadata": {},
          "execution_count": 28
        }
      ]
    }
  ]
}